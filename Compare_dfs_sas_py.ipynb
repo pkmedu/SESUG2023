{
 "cells": [
  {
   "cell_type": "code",
   "execution_count": null,
   "id": "21f59bc3-1790-4f0c-832d-213da4bbf484",
   "metadata": {},
   "outputs": [],
   "source": [
    "import pandas as pd"
   ]
  },
  {
   "cell_type": "code",
   "execution_count": 28,
   "id": "59b160cc-f2c9-473e-8eec-ce824495faf4",
   "metadata": {},
   "outputs": [],
   "source": [
    "df_py = pd.read_excel(f\"C:\\Python\\Web_Scraping\\output\\MEPS_zip_links_2023-06-06.xlsx\")"
   ]
  },
  {
   "cell_type": "code",
   "execution_count": null,
   "id": "7508fb6c-7741-4487-9bc0-47d9be997123",
   "metadata": {},
   "outputs": [],
   "source": [
    "df_sas = pd.read_excel(f\"C:\\SESUG_2023\\SAS_MEPS_zip_links_2023-06-07.xlsx\")"
   ]
  },
  {
   "cell_type": "code",
   "execution_count": 25,
   "id": "cb7ba07f-e41d-466e-8f7d-2b95f3de1ad5",
   "metadata": {},
   "outputs": [],
   "source": [
    "# Exampimport pandas as pdle 4: Get differences of DataFrames keep equal values and shape\n",
    "diff = df_sas.compare(df_py, keep_equal=True, keep_shape = True)"
   ]
  },
  {
   "cell_type": "code",
   "execution_count": null,
   "id": "372ccf2d-eeed-4744-902d-0919f6620acf",
   "metadata": {},
   "outputs": [],
   "source": [
    "print(diff)"
   ]
  },
  {
   "cell_type": "code",
   "execution_count": 29,
   "id": "0473bf7e-93b7-4849-823d-4a23f4167ae9",
   "metadata": {},
   "outputs": [
    {
     "name": "stdout",
     "output_type": "stream",
     "text": [
      "     data_year       puf_num          \\\n",
      "          self other    self   other   \n",
      "0         2021  2021  HC-227  HC-227   \n",
      "1         2021  2021  HC-227  HC-227   \n",
      "2         2021  2021  HC-227  HC-227   \n",
      "3         2021  2021  HC-227  HC-227   \n",
      "4         2021  2021  HC-227  HC-227   \n",
      "...        ...   ...     ...     ...   \n",
      "1174      1996  1996  HC-017  HC-017   \n",
      "1175      1996  1996  HC-024  HC-024   \n",
      "1176      1996  1996  HC-024  HC-024   \n",
      "1177      1996  1996  HC-041  HC-041   \n",
      "1178      1996  1996  HC-041  HC-041   \n",
      "\n",
      "                                              meps_file  \\\n",
      "                                                   self   \n",
      "0                                        2021 Jobs File   \n",
      "1                                        2021 Jobs File   \n",
      "2                                        2021 Jobs File   \n",
      "3                                        2021 Jobs File   \n",
      "4                                        2021 Jobs File   \n",
      "...                                                 ...   \n",
      "1174  1996 Health Insurance Plan Abstraction Linked ...   \n",
      "1175                        1996 Person Round Plan File   \n",
      "1176                        1996 Person Round Plan File   \n",
      "1177                  1996 Supplemental Public Use File   \n",
      "1178                  1996 Supplemental Public Use File   \n",
      "\n",
      "                                                                  file_format  \\\n",
      "                                                  other                  self   \n",
      "0                                        2021 Jobs File          ASCII format   \n",
      "1                                        2021 Jobs File         SAS V9 format   \n",
      "2                                        2021 Jobs File  SAS transport format   \n",
      "3                                        2021 Jobs File          Stata format   \n",
      "4                                        2021 Jobs File           XLSX format   \n",
      "...                                                 ...                   ...   \n",
      "1174  1996 Health Insurance Plan Abstraction Linked ...  SAS transport format   \n",
      "1175                        1996 Person Round Plan File          ASCII format   \n",
      "1176                        1996 Person Round Plan File  SAS transport format   \n",
      "1177                  1996 Supplemental Public Use File          ASCII format   \n",
      "1178                  1996 Supplemental Public Use File  SAS transport format   \n",
      "\n",
      "                                                                     zip_link  \\\n",
      "                     other                                               self   \n",
      "0             ASCII format  https://meps.ahrq.gov/data_files/pufs/h227/h22...   \n",
      "1            SAS V9 format  https://meps.ahrq.gov/data_files/pufs/h227/h22...   \n",
      "2     SAS transport format  https://meps.ahrq.gov/data_files/pufs/h227/h22...   \n",
      "3             Stata format  https://meps.ahrq.gov/data_files/pufs/h227/h22...   \n",
      "4              XLSX format  https://meps.ahrq.gov/data_files/pufs/h227/h22...   \n",
      "...                    ...                                                ...   \n",
      "1174  SAS transport format   https://meps.ahrq.gov/data_files/pufs/h17ssp.zip   \n",
      "1175          ASCII format   https://meps.ahrq.gov/data_files/pufs/h24dat.zip   \n",
      "1176  SAS transport format   https://meps.ahrq.gov/data_files/pufs/h24ssp.zip   \n",
      "1177          ASCII format   https://meps.ahrq.gov/data_files/pufs/h41dat.zip   \n",
      "1178  SAS transport format   https://meps.ahrq.gov/data_files/pufs/h41ssp.zip   \n",
      "\n",
      "                                                         \n",
      "                                                  other  \n",
      "0     https://meps.ahrq.gov/data_files/pufs/h227/h22...  \n",
      "1     https://meps.ahrq.gov/data_files/pufs/h227/h22...  \n",
      "2     https://meps.ahrq.gov/data_files/pufs/h227/h22...  \n",
      "3     https://meps.ahrq.gov/data_files/pufs/h227/h22...  \n",
      "4     https://meps.ahrq.gov/data_files/pufs/h227/h22...  \n",
      "...                                                 ...  \n",
      "1174   https://meps.ahrq.gov/data_files/pufs/h17ssp.zip  \n",
      "1175   https://meps.ahrq.gov/data_files/pufs/h24dat.zip  \n",
      "1176   https://meps.ahrq.gov/data_files/pufs/h24ssp.zip  \n",
      "1177   https://meps.ahrq.gov/data_files/pufs/h41dat.zip  \n",
      "1178   https://meps.ahrq.gov/data_files/pufs/h41ssp.zip  \n",
      "\n",
      "[1179 rows x 10 columns]\n"
     ]
    },
    {
     "name": "stderr",
     "output_type": "stream",
     "text": [
      "C:\\Users\\pradip.muhuri\\Anaconda3\\lib\\site-packages\\openpyxl\\worksheet\\header_footer.py:48: UserWarning: Cannot parse header or footer so it will be ignored\n",
      "  warn(\"\"\"Cannot parse header or footer so it will be ignored\"\"\")\n"
     ]
    }
   ],
   "source": [
    "import pandas as pd\n",
    "df_py = pd.read_excel(f\"C:\\Python\\Web_Scraping\\output\\MEPS_zip_links_2023-06-06.xlsx\")\n",
    "df_sas = pd.read_excel(f\"C:\\SESUG_2023\\SAS_MEPS_zip_links_2023-06-07.xlsx\")\n",
    "diff = df_sas.compare(df_py, keep_equal=True, keep_shape = True)\n",
    "print(diff)"
   ]
  },
  {
   "cell_type": "code",
   "execution_count": null,
   "id": "9f552025-2285-4b23-8fb2-ac22963d41d4",
   "metadata": {},
   "outputs": [],
   "source": []
  }
 ],
 "metadata": {
  "kernelspec": {
   "display_name": "Python 3 (ipykernel)",
   "language": "python",
   "name": "python3"
  },
  "language_info": {
   "codemirror_mode": {
    "name": "ipython",
    "version": 3
   },
   "file_extension": ".py",
   "mimetype": "text/x-python",
   "name": "python",
   "nbconvert_exporter": "python",
   "pygments_lexer": "ipython3",
   "version": "3.9.12"
  }
 },
 "nbformat": 4,
 "nbformat_minor": 5
}
