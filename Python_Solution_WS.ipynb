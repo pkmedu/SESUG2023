{
 "cells": [
  {
   "cell_type": "markdown",
   "metadata": {},
   "source": [
    "**step 1**\n",
    "- note the python libraries/modules"
   ]
  },
  {
   "cell_type": "code",
   "execution_count": 1,
   "metadata": {},
   "outputs": [],
   "source": [
    "# import libraries\n",
    "import pandas as pd\n",
    "import requests\n",
    "from bs4 import BeautifulSoup\n",
    "from urllib.parse import quote"
   ]
  },
  {
   "cell_type": "markdown",
   "metadata": {},
   "source": [
    "**step 2**\n",
    "- get the list of numerical year options from the main page\n",
    "- save as list of tuples with year and url"
   ]
  },
  {
   "cell_type": "code",
   "execution_count": 2,
   "metadata": {},
   "outputs": [],
   "source": [
    "# main page response\n",
    "main_page = requests.get(\"https://meps.ahrq.gov/data_stats/download_data_files.jsp\")\n",
    "main_soup = BeautifulSoup(main_page.text, \"html.parser\")\n",
    "\n",
    "# get list of data years and links for each year\n",
    "# skip the \"All years\" (i.e. non-digit options)\n",
    "base_year_url = \"https://meps.ahrq.gov/mepsweb/data_stats/download_data_files_results.jsp?cboDataYear=\"\n",
    "year_url_suffix = \"&buttonYearandDataType=Search\"\n",
    "\n",
    "year_options = main_soup.select_one('select[name=\"cboDataYear\"]').select(\"option\")\n",
    "\n",
    "year_url_list = [\n",
    "    (x.get(\"value\"), base_year_url + quote(x.get(\"value\")) + year_url_suffix)\n",
    "    for x in year_options\n",
    "    if x.get(\"value\").isdigit()\n",
    "]"
   ]
  },
  {
   "cell_type": "markdown",
   "metadata": {},
   "source": [
    "**step 3**\n",
    "- use the year_url_list list of tuples to get \"HC-\" zip file links\n",
    "- save these in list of dictionaries"
   ]
  },
  {
   "cell_type": "code",
   "execution_count": 3,
   "metadata": {},
   "outputs": [],
   "source": [
    "base_hc_url = \"https://meps.ahrq.gov/mepsweb/data_stats/download_data_files_detail.jsp?cboPufNumber=\"\n",
    "zip_link_list = []\n",
    "for year, year_url in year_url_list:\n",
    "    try:\n",
    "        response = requests.get(year_url)\n",
    "        response.raise_for_status()\n",
    "        try:\n",
    "            dfs = pd.read_html(response.text)\n",
    "            hc_df = pd.DataFrame()\n",
    "            for df in dfs:\n",
    "                if \"File(s), Documentation & Codebooks\" in df.columns:\n",
    "                    hc_df = pd.concat([hc_df, df], ignore_index=True)\n",
    "                    hc_df = hc_df.dropna(subset=\"PUF no.\")\n",
    "                    hc_df = hc_df.loc[hc_df[\"PUF no.\"].str.contains(\"HC-\")]\n",
    "                    hc_df = hc_df.drop_duplicates(subset=\"PUF no.\")\n",
    "                    hc_df[\"hc_url\"] = base_hc_url + hc_df[\"PUF no.\"]\n",
    "            if not hc_df.empty:\n",
    "                hc_df.columns = [\n",
    "                    \"puf_num\",\n",
    "                    \"Files\",\n",
    "                    \"Data_Update\",\n",
    "                    \"Year\",\n",
    "                    \"File_Type\",\n",
    "                    \"hc_url\",\n",
    "                ]\n",
    "                for row in hc_df.itertuples():\n",
    "                    hc_response = requests.get(row.hc_url)\n",
    "                    hc_response.raise_for_status()\n",
    "                    hc_soup = BeautifulSoup(hc_response.text, features=\"lxml\")\n",
    "                    try:\n",
    "                        meps_file = hc_soup.find(class_=\"OrangeBox\").text\n",
    "                        for td in hc_soup.find_all(\"td\"):\n",
    "                            zip_link_dict = {}\n",
    "                            if td.text.startswith(\"Data File\"):\n",
    "                                zip_link_dict[\"data_year\"] = row.Year\n",
    "                                zip_link_dict[\"puf_num\"] = row.puf_num\n",
    "                                zip_link_dict[\"meps_file\"] = meps_file\n",
    "                                zip_link_dict[\"file_format\"] = td.text\n",
    "                                zip_link_dict[\n",
    "                                    \"zip_link\"\n",
    "                                ] = \"https://meps.ahrq.gov\" + td.find_next(\"a\").get(\n",
    "                                    \"href\"\n",
    "                                ).strip(\n",
    "                                    \"..\"\n",
    "                                )\n",
    "                                zip_link_list.append(zip_link_dict)\n",
    "                    except:\n",
    "                        # catch your exceptions here\n",
    "                        pass\n",
    "        except requests.exceptions.HTTPError as err:\n",
    "            print(err)\n",
    "    except requests.exceptions.HTTPError as httperr:\n",
    "        print(httperr)"
   ]
  },
  {
   "cell_type": "markdown",
   "metadata": {},
   "source": [
    "**step 4**\n",
    "- save the list of dictionaries to pandas dataframe\n",
    "- deduplicate\n",
    "- clean up meps_file column to remove \"PUF no.\" prefix\n",
    "- clean up file_format column to remove \"Data File\" prefix\n",
    "- sort the dataframe in certain order\n",
    "- get n rows of the dataframe"
   ]
  },
  {
   "cell_type": "code",
   "execution_count": 4,
   "metadata": {},
   "outputs": [
    {
     "name": "stdout",
     "output_type": "stream",
     "text": [
      "   data_year puf_num                                          meps_file  \\\n",
      "60      2021  HC-036  MEPS 1996-2021 Pooled Linkage File for Common ...   \n",
      "62      2021  HC-036  MEPS 1996-2021 Pooled Linkage File for Common ...   \n",
      "61      2021  HC-036  MEPS 1996-2021 Pooled Linkage File for Common ...   \n",
      "63      2021  HC-036  MEPS 1996-2021 Pooled Linkage File for Common ...   \n",
      "64      2021  HC-036  MEPS 1996-2021 Pooled Linkage File for Common ...   \n",
      "\n",
      "             file_format                                           zip_link  \n",
      "60          ASCII format  https://meps.ahrq.gov/data_files/pufs/h036/h36...  \n",
      "62         SAS V9 format  https://meps.ahrq.gov/data_files/pufs/h036/h36...  \n",
      "61  SAS transport format  https://meps.ahrq.gov/data_files/pufs/h036/h36...  \n",
      "63          Stata format  https://meps.ahrq.gov/data_files/pufs/h036/h36...  \n",
      "64           XLSX format  https://meps.ahrq.gov/data_files/pufs/h036/h36...  \n"
     ]
    }
   ],
   "source": [
    "meps_df = pd.DataFrame(zip_link_list)\n",
    "meps_df.drop_duplicates(inplace=True)\n",
    "meps_df[\"meps_file\"] = meps_df[\"meps_file\"].str.split(\": \", n=1).str[-1]\n",
    "meps_df[\"file_format\"] = meps_df[\"file_format\"].str.split(\", \", n=1).str[-1]\n",
    "meps_df = meps_df.sort_values(by=['data_year','puf_num', 'file_format'], ascending=[False, True, True])\n",
    "print(meps_df.head(5))"
   ]
  },
  {
   "cell_type": "markdown",
   "metadata": {},
   "source": [
    "**step 4 (continued)**\n",
    "- obtain the current date (timestamp)\n",
    "- save the dataframe as an excel file"
   ]
  },
  {
   "cell_type": "code",
   "execution_count": 5,
   "metadata": {},
   "outputs": [],
   "source": [
    "today = pd.Timestamp(\"now\").strftime(\"%Y-%m-%d\")\n",
    "meps_df.to_excel(f\"C:\\SESUG_2023\\Python_Solution_WS_{today}.xlsx\", index=False)"
   ]
  },
  {
   "cell_type": "code",
   "execution_count": 7,
   "metadata": {},
   "outputs": [
    {
     "name": "stderr",
     "output_type": "stream",
     "text": [
      "[NbConvertApp] Converting notebook Python_Solution_WS.ipynb to python\n",
      "[NbConvertApp] Writing 4642 bytes to Python_Solution_WS.py\n"
     ]
    }
   ],
   "source": [
    "!jupyter nbconvert Python_Solution_WS.ipynb --to python"
   ]
  },
  {
   "cell_type": "code",
   "execution_count": null,
   "metadata": {},
   "outputs": [],
   "source": []
  }
 ],
 "metadata": {
  "kernelspec": {
   "display_name": "Python 3 (ipykernel)",
   "language": "python",
   "name": "python3"
  },
  "language_info": {
   "codemirror_mode": {
    "name": "ipython",
    "version": 3
   },
   "file_extension": ".py",
   "mimetype": "text/x-python",
   "name": "python",
   "nbconvert_exporter": "python",
   "pygments_lexer": "ipython3",
   "version": "3.9.12"
  }
 },
 "nbformat": 4,
 "nbformat_minor": 4
}
